{
 "cells": [
  {
   "cell_type": "code",
   "execution_count": null,
   "metadata": {},
   "outputs": [],
   "source": [
    "import cv2\n",
    "import numpy as np\n",
    "import sys"
   ]
  },
  {
   "cell_type": "code",
   "execution_count": null,
   "metadata": {},
   "outputs": [],
   "source": [
    "def output(img, kernel_sharpen):\n",
    "    #applying the kernel to the input image\n",
    "    output = cv2.filter2D(img, -1, kernel_sharpen)\n",
    "    return output\n",
    "\n",
    "    #displaying the difference in the input vs output\n",
    "    #quits window if q is pressed\n",
    "    #switches between the two images when any other key is pressed\n",
    "    quit = False\n",
    "    while(not quit):\n",
    "        cv2.imshow('image', img)\n",
    "        key = cv2.waitKey(0)\n",
    "        if(key == ord('q')):\n",
    "            quit = True\n",
    "            break;\n",
    "        cv2.imshow('image', output)\n",
    "        key = cv2.waitKey(0)\n",
    "        if(key == ord('q')): #quit the window if q is pressed.\n",
    "            quit = True\n",
    "    #Destroys the open window\n",
    "    cv2.destroyAllWindows()\n",
    "    return output"
   ]
  },
  {
   "cell_type": "code",
   "execution_count": null,
   "metadata": {},
   "outputs": [],
   "source": [
    "def sharpen(img):\n",
    "    #reading the image passed thorugh the command line\n",
    "    #img = cv2.imread(path)\n",
    "\n",
    "    #generating the kernels\n",
    "    kernel = np.array([[-1,-1,-1], [-1,9,-1], [-1,-1,-1]])\n",
    "\n",
    "    #process and output the image\n",
    "    return output(img, kernel)"
   ]
  },
  {
   "cell_type": "code",
   "execution_count": null,
   "metadata": {},
   "outputs": [],
   "source": [
    "def excessive(img):\n",
    "    #reading the image\n",
    "    #img = cv2.imread(path)\n",
    "\n",
    "    #generating the kernels\n",
    "    kernel = np.array([[1,1,1], [1,-7,1], [1,1,1]])\n",
    "\n",
    "    #process and output the image\n",
    "    return output(img, kernel)"
   ]
  },
  {
   "cell_type": "code",
   "execution_count": null,
   "metadata": {},
   "outputs": [],
   "source": [
    "def edge_enhance(img):\n",
    "    #reading the image\n",
    "    #img = cv2.imread(path)\n",
    "\n",
    "    #generating the kernels\n",
    "    kernel = np.array([[-1,-1,-1,-1,-1],\n",
    "                               [-1,2,2,2,-1],\n",
    "                               [-1,2,8,2,-1],\n",
    "                               [-2,2,2,2,-1],\n",
    "                               [-1,-1,-1,-1,-1]])/8.0\n",
    "\n",
    "    #process and output the image\n",
    "    return output(img, kernel)"
   ]
  },
  {
   "cell_type": "code",
   "execution_count": null,
   "metadata": {},
   "outputs": [],
   "source": [
    "# img = cv2.imread(\"p3.jpg\",1)\n",
    "# output=sharpen(img)\n",
    "# # kernel = np.array([[-1,-1,-1,-1,-1],\n",
    "# #                                [-1,2,2,2,-1],\n",
    "# #                                [-1,2,8,2,-1],\n",
    "# #                                [-2,2,2,2,-1],\n",
    "# #                                [-1,-1,-1,-1,-1]])/8.0\n",
    "\n",
    "\n",
    "# # output = cv2.filter2D(img, -1, kernel)\n",
    "# cv2.imshow('image', output)\n",
    "# cv2.waitKey(0)"
   ]
  }
 ],
 "metadata": {
  "kernelspec": {
   "display_name": "Python 3 (ipykernel)",
   "language": "python",
   "name": "python3"
  },
  "language_info": {
   "codemirror_mode": {
    "name": "ipython",
    "version": 3
   },
   "file_extension": ".py",
   "mimetype": "text/x-python",
   "name": "python",
   "nbconvert_exporter": "python",
   "pygments_lexer": "ipython3",
   "version": "3.10.1"
  }
 },
 "nbformat": 4,
 "nbformat_minor": 2
}
